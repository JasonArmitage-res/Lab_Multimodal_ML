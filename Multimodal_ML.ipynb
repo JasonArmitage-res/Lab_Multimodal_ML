{
  "nbformat": 4,
  "nbformat_minor": 0,
  "metadata": {
    "colab": {
      "name": "Sdwt_rishi.ipynb",
      "provenance": [],
      "collapsed_sections": [],
      "toc_visible": true,
      "include_colab_link": true
    },
    "kernelspec": {
      "name": "python3",
      "display_name": "Python 3"
    },
    "accelerator": "GPU"
  },
  "cells": [
    {
      "cell_type": "markdown",
      "metadata": {
        "id": "view-in-github",
        "colab_type": "text"
      },
      "source": [
        "<a href=\"https://colab.research.google.com/github/JasonArmitage-res/Lab_Multimodal_ML/blob/master/Multimodal_ML.ipynb\" target=\"_parent\"><img src=\"https://colab.research.google.com/assets/colab-badge.svg\" alt=\"Open In Colab\"/></a>"
      ]
    },
    {
      "cell_type": "code",
      "metadata": {
        "id": "PeIMvU_pv8C3",
        "colab_type": "code",
        "outputId": "2347b774-bde9-4ac0-c7d4-e4c3e15b6837",
        "colab": {
          "base_uri": "https://localhost:8080/",
          "height": 124
        }
      },
      "source": [
        "from google.colab import drive\n",
        "drive.mount('/content/drive')"
      ],
      "execution_count": 0,
      "outputs": [
        {
          "output_type": "stream",
          "text": [
            "Go to this URL in a browser: https://accounts.google.com/o/oauth2/auth?client_id=947318989803-6bn6qk8qdgf4n4g3pfee6491hc0brc4i.apps.googleusercontent.com&redirect_uri=urn%3aietf%3awg%3aoauth%3a2.0%3aoob&response_type=code&scope=email%20https%3a%2f%2fwww.googleapis.com%2fauth%2fdocs.test%20https%3a%2f%2fwww.googleapis.com%2fauth%2fdrive%20https%3a%2f%2fwww.googleapis.com%2fauth%2fdrive.photos.readonly%20https%3a%2f%2fwww.googleapis.com%2fauth%2fpeopleapi.readonly\n",
            "\n",
            "Enter your authorization code:\n",
            "··········\n",
            "Mounted at /content/drive\n"
          ],
          "name": "stdout"
        }
      ]
    },
    {
      "cell_type": "code",
      "metadata": {
        "id": "apqbwZjoj8WE",
        "colab_type": "code",
        "colab": {}
      },
      "source": [
        "!pip install 'regex==2019.11.1' --force-reinstall"
      ],
      "execution_count": 0,
      "outputs": []
    },
    {
      "cell_type": "code",
      "metadata": {
        "id": "9TdvY24KwZyO",
        "colab_type": "code",
        "colab": {}
      },
      "source": [
        "import torch\n",
        "!pip install transformers\n",
        "from transformers import BertTokenizer\n",
        "from transformers import BertConfig\n",
        "from transformers import BertModel\n",
        "from nltk import tokenize"
      ],
      "execution_count": 0,
      "outputs": []
    },
    {
      "cell_type": "code",
      "metadata": {
        "id": "4t3I9y7awpbI",
        "colab_type": "code",
        "colab": {}
      },
      "source": [
        "import nltk\n",
        "from transformers import BertTokenizer\n",
        "from nltk import tokenize\n",
        "#nltk.download('punkt')\n",
        "\n",
        "\n",
        "#Generates formatted input (for Bert) from text\n",
        "\n",
        "\n",
        "class BertInput () :\n",
        "    \n",
        "    def __init__(self, max_input_length = 512):\n",
        "\n",
        "        self.indexed_tokens = []\n",
        "        self.segment_ids = []\n",
        "        self.masked_ids = []\n",
        "        self.max_input_length = max_input_length\n",
        "\n",
        "    def GetIndexedTokens(self, text):\n",
        "        \n",
        "        tokenizer = BertTokenizer.from_pretrained('bert-base-uncased')\n",
        "        #tagged_text = self.AddSpecialTokens(text)\n",
        "        #tokenized_text = tokenizer.tokenize(tagged_text)\n",
        "        tokenized_text = tokenizer.tokenize(text)\n",
        "        tokenized_text.append(\"[SEP]\")\n",
        "        tokenized_text.insert(0,\"[CLS]\")\n",
        "        self.indexed_tokens = tokenizer.convert_tokens_to_ids(tokenized_text)\n",
        "\n",
        "    '''\n",
        "    def AddSpecialTokens (self, text) : \n",
        "    \n",
        "        #add [CLS] token in the beggining of every text, [SEP] after every sentence\n",
        "        sentences = tokenize.sent_tokenize('[CLS] ' + text)\n",
        "        sentences = [x + ' [SEP]' for x in sentences]\n",
        "        return (' '.join(sentences))\n",
        "    '''\n",
        "\n",
        "    def GetSegmentIds(self) :\n",
        "        \n",
        "        self.segment_ids = [1] * len(self.indexed_tokens)\n",
        " \n",
        "    def GetMaskedIds(self) :\n",
        "        \n",
        "        self.masked_ids = [1] * len(self.indexed_tokens)\n",
        "\n",
        "    def Padding(self) :\n",
        "\n",
        "        if(len(self.indexed_tokens) < self.max_input_length) :\n",
        "           padding = [0]*(self.max_input_length - len(self.indexed_tokens))\n",
        "           self.indexed_tokens += padding\n",
        "           self.segment_ids += padding\n",
        "           self.masked_ids += padding\n",
        "        else :\n",
        "           del self.indexed_tokens[self.max_input_length:]\n",
        "           del self.segment_ids[self.max_input_length:]\n",
        "           del self.masked_ids[self.max_input_length:]\n",
        "\n",
        "    def GenerateBertInput(self, text) :\n",
        "\n",
        "        self.GetIndexedTokens(text)\n",
        "        self.GetSegmentIds()\n",
        "        self.GetMaskedIds()\n",
        "        self.Padding()\n",
        "        #result = [torch.tensor(self.indexed_tokens),torch.tensor(self.segment_ids),torch.tensor(self.masked_ids)]\n",
        "        \n",
        "        return [self.indexed_tokens, self.segment_ids, self.masked_ids]\n"
      ],
      "execution_count": 0,
      "outputs": []
    },
    {
      "cell_type": "code",
      "metadata": {
        "id": "J5d-vB-swx6j",
        "colab_type": "code",
        "colab": {}
      },
      "source": [
        "#ref: https://medium.com/huggingface/multi-label-text-classification-using-bert-the-mighty-transformer-69714fa3fb3d\n",
        "from transformers import BertModel\n",
        "from torch import nn\n",
        "\n",
        "class BertMultiLabelClassifier(nn.Module):\n",
        "\n",
        "    def __init__(self, config, num_labels = 23, dropout = 0.1):\n",
        "\n",
        "        super(BertMultiLabelClassifier, self).__init__()\n",
        "        self.num_labels = num_labels\n",
        "        self.base_model = BertModel.from_pretrained('bert-base-uncased', config=config)\n",
        "        self.hidden_layer = torch.nn.Linear(config.hidden_size, num_labels)\n",
        "        self.output_layer = torch.nn.Sigmoid()\n",
        "        self.dropout = nn.Dropout(p=dropout)\n",
        "\n",
        "    def forward(self, indexed_tokens, segment_ids=None, masked_ids=None):\n",
        "        \n",
        "        pooled_output = self.base_model(indexed_tokens, segment_ids, masked_ids)\n",
        "        dropped_layer = self.dropout(pooled_output[1])\n",
        "        logits = self.hidden_layer(dropped_layer)\n",
        "        if(self.training) :\n",
        "            return logits\n",
        "        else :\n",
        "            output = self.output_layer(logits)\n",
        "            return output\n",
        "\n",
        "\n",
        "    def freeze_bert_encoder(self):\n",
        "        for param in self.base_model.parameters():\n",
        "            param.requires_grad = False\n",
        "\n",
        "\n",
        "    def unfreeze_bert_encoder(self):\n",
        "        for param in self.base_model.named_parameters():\n",
        "            param.requires_grad = True\n",
        "    "
      ],
      "execution_count": 0,
      "outputs": []
    },
    {
      "cell_type": "code",
      "metadata": {
        "id": "g8fOAZzd53Mt",
        "colab_type": "code",
        "colab": {}
      },
      "source": [
        "import pandas as pd\n",
        "#data = pd.read_pickle(\"/content/drive/My Drive/Dataset/mm_imdb_sampled.pkl\")\n",
        "Data_train_tensor = torch.load(\"/content/drive/My Drive/Dataset/Data_train_tensor.pt\")\n",
        "Data_test_tensor = torch.load(\"/content/drive/My Drive/Dataset/Data_test_tensor.pt\")\n",
        "Labels_train_tensor = torch.load(\"/content/drive/My Drive/Dataset/Labels_train_tensor.pt\")\n",
        "Labels_test_tensor = torch.load(\"/content/drive/My Drive/Dataset/Labels_test_tensor.pt\")"
      ],
      "execution_count": 0,
      "outputs": []
    },
    {
      "cell_type": "code",
      "metadata": {
        "id": "HaAp6uohka6b",
        "colab_type": "code",
        "colab": {}
      },
      "source": [
        "import numpy as np\n",
        "#np.save(\"/content/drive/My Drive/Dataset/Label_names\",e)\n",
        "Label_names = list(np.load(\"/content/drive/My Drive/Dataset/Label_names.npy\", allow_pickle=True))"
      ],
      "execution_count": 0,
      "outputs": []
    },
    {
      "cell_type": "code",
      "metadata": {
        "id": "liOhs1ZjTDly",
        "colab_type": "code",
        "colab": {}
      },
      "source": [
        "from sklearn.preprocessing import MultiLabelBinarizer\n",
        "from sklearn.model_selection import train_test_split\n",
        "\n",
        "def Train_Test_Split(data , test_data_fraction = 0.2) :\n",
        "    \n",
        "    mlb = MultiLabelBinarizer()\n",
        "    data_genres_one_hot_encoding = mlb.fit_transform(data['genres'])\n",
        "    Label_names = mlb.classes_\n",
        "    data_genres_one_hot_encoding = pd.DataFrame(data_genres_one_hot_encoding, columns = mlb.classes_)\n",
        "    Data_train, Data_test, Labels_train, Labels_test = train_test_split(data, data_genres_one_hot_encoding, test_size = test_data_fraction)\n",
        "    Labels_train = torch.tensor(Labels_train.values)\n",
        "    Labels_test = torch.tensor(Labels_test.values)\n",
        "\n",
        "    return (Data_train, Data_test, Labels_train, Labels_test, Label_names)\n"
      ],
      "execution_count": 0,
      "outputs": []
    },
    {
      "cell_type": "code",
      "metadata": {
        "id": "4ibObsjVw5yp",
        "colab_type": "code",
        "colab": {}
      },
      "source": [
        "#ref: https://huggingface.co/transformers/main_classes/optimizer_schedules.html\n",
        "\n",
        "from transformers import AdamW\n",
        "\n",
        "config = BertConfig.from_pretrained('bert-base-uncased')\n",
        "bert = BertMultiLabelClassifier(config)\n",
        "bert = bert.cuda()\n",
        "\n",
        "#do not train the Bert model\n",
        "bert.freeze_bert_encoder()\n",
        "\n",
        "'''\n",
        "param_optimizer = list(bert.named_parameters())\n",
        "no_decay = ['bias', 'gamma', 'beta']\n",
        "optimizer_grouped_parameters = [\n",
        "    {'params': [p for n, p in param_optimizer if not any(nd in n for nd in no_decay)],\n",
        "     'weight_decay_rate': 0.01},\n",
        "    {'params': [p for n, p in param_optimizer if any(nd in n for nd in no_decay)],\n",
        "     'weight_decay_rate': 0.0}\n",
        "]\n",
        "\n",
        "optimizer = AdamW(optimizer_grouped_parameters,\n",
        "                     lr=2e-5)\n",
        "                     \n",
        "'''\n",
        "\n",
        "optimizer = AdamW(bert.parameters(), lr=2e-5, eps = 1e-8)"
      ],
      "execution_count": 0,
      "outputs": []
    },
    {
      "cell_type": "code",
      "metadata": {
        "id": "hjOUcgxiw-AQ",
        "colab_type": "code",
        "colab": {}
      },
      "source": [
        "#source: https://mccormickml.com/2019/07/22/BERT-fine-tuning/\n",
        "\n",
        "import time\n",
        "import datetime\n",
        "\n",
        "def format_time(elapsed):\n",
        "    '''\n",
        "    Takes a time in seconds and returns a string hh:mm:ss\n",
        "    '''\n",
        "    # Round to the nearest second.\n",
        "    elapsed_rounded = int(round((elapsed)))\n",
        "    \n",
        "    # Format as hh:mm:ss\n",
        "    return str(datetime.timedelta(seconds=elapsed_rounded))\n"
      ],
      "execution_count": 0,
      "outputs": []
    },
    {
      "cell_type": "code",
      "metadata": {
        "id": "LqFtk2EEDEa3",
        "colab_type": "code",
        "colab": {}
      },
      "source": [
        "#source: https://mccormickml.com/2019/07/22/BERT-fine-tuning/\n",
        "\n",
        "import matplotlib.pyplot as plt\n",
        "% matplotlib inline\n",
        "import seaborn as sns\n",
        "\n",
        "def Plot_Training_Epoch_Loss(epoch_loss_set) :\n",
        "\n",
        "  sns.set(style='darkgrid')\n",
        "  sns.set(font_scale=1.5)\n",
        "  plt.rcParams[\"figure.figsize\"] = (12,6)\n",
        "  plt.plot(epoch_loss_set, 'b-o')\n",
        "  plt.title(\"Training loss\")\n",
        "  plt.xlabel(\"Epoch\")\n",
        "  plt.ylabel(\"Loss\")\n",
        "  plt.show()"
      ],
      "execution_count": 0,
      "outputs": []
    },
    {
      "cell_type": "code",
      "metadata": {
        "id": "NwUbXDO0w_Q5",
        "colab_type": "code",
        "outputId": "e369996f-9249-433a-9af4-aa53c65d2e23",
        "colab": {
          "base_uri": "https://localhost:8080/",
          "height": 1000
        }
      },
      "source": [
        "#ref: https://mccormickml.com/2019/07/22/BERT-fine-tuning/\n",
        "\n",
        "from torch.nn import BCEWithLogitsLoss\n",
        "from torch.utils.data import TensorDataset, DataLoader, RandomSampler, SequentialSampler\n",
        "#from torch.optim import Adam\n",
        "from tqdm import tqdm, trange\n",
        "\n",
        "BATCH_SIZE = 32\n",
        "EPOCHS = 6\n",
        "NUM_LABELS = 23\n",
        "\n",
        "train_dataset = TensorDataset(Data_train_tensor, Labels_train_tensor)\n",
        "train_sampler = RandomSampler(train_dataset)\n",
        "train_dataloader = DataLoader(train_dataset, sampler=train_sampler, batch_size=BATCH_SIZE)\n",
        "device = torch.device(\"cuda\" if torch.cuda.is_available() else \"cpu\")\n",
        "\n",
        "test_dataset = TensorDataset(Data_test_tensor, Labels_test_tensor)\n",
        "test_sampler = SequentialSampler(test_dataset)\n",
        "test_dataloader = DataLoader(test_dataset, sampler=test_sampler, batch_size=BATCH_SIZE)\n",
        "\n",
        "train_loss_set = []\n",
        "\n",
        "for _ in trange(EPOCHS, desc=\"Epoch\"):\n",
        "\n",
        "    bert.train()\n",
        "    \n",
        "    epoch_loss = 0\n",
        "\n",
        "    # Measure how long the training epoch takes.\n",
        "    t0 = time.time()\n",
        "    \n",
        "    for step_num, batch_data in enumerate(train_dataloader):\n",
        "\n",
        "        # Progress update every 30 batches.\n",
        "        if step_num % 30 == 0 and not step_num == 0:\n",
        "\n",
        "            # Calculate elapsed time in minutes.\n",
        "            elapsed = format_time(time.time() - t0)\n",
        "            \n",
        "            # Report progress.\n",
        "            print('  Batch : ',step_num, ' , Time elapsed : ',elapsed)\n",
        "\n",
        "        token_ids, labels = tuple(t.to(device) for t in batch_data)\n",
        "        optimizer.zero_grad()\n",
        "        logits = bert(token_ids)\n",
        "        loss_fct = BCEWithLogitsLoss()\n",
        "        batch_loss = loss_fct(logits.view(-1, NUM_LABELS).float(), labels.view(-1, NUM_LABELS).float())\n",
        "        batch_loss.backward()\n",
        "        #scheduler.step()\n",
        "        optimizer.step()\n",
        "        epoch_loss += batch_loss.item()\n",
        "\n",
        "    avg_epoch_loss = epoch_loss/len(train_dataloader)\n",
        "    print(\"\\nTrain loss for epoch: \",avg_epoch_loss)\n",
        "    print(\"\\nTraining epoch took: {:}\".format(format_time(time.time() - t0)))\n",
        "    train_loss_set.append(avg_epoch_loss)\n",
        "\n",
        "torch.save(bert.state_dict(), \"/content/drive/My Drive/Dataset/bert_unimodal.pt\")\n",
        "Plot_Training_Epoch_Loss(train_loss_set)"
      ],
      "execution_count": 0,
      "outputs": [
        {
          "output_type": "stream",
          "text": [
            "\n",
            "Epoch:   0%|          | 0/6 [00:00<?, ?it/s]\u001b[A"
          ],
          "name": "stderr"
        },
        {
          "output_type": "stream",
          "text": [
            "  Batch :  30  , Time elapsed :  0:00:48\n",
            "  Batch :  60  , Time elapsed :  0:01:35\n",
            "  Batch :  90  , Time elapsed :  0:02:22\n",
            "  Batch :  120  , Time elapsed :  0:03:10\n",
            "  Batch :  150  , Time elapsed :  0:03:57\n"
          ],
          "name": "stdout"
        },
        {
          "output_type": "stream",
          "text": [
            "\n",
            "Epoch:  17%|█▋        | 1/6 [04:24<22:03, 264.67s/it]\u001b[A"
          ],
          "name": "stderr"
        },
        {
          "output_type": "stream",
          "text": [
            "\n",
            "Train loss for epoch:  0.36880790247094064\n",
            "\n",
            "Training epoch took: 0:04:25\n",
            "  Batch :  30  , Time elapsed :  0:00:47\n",
            "  Batch :  60  , Time elapsed :  0:01:35\n",
            "  Batch :  90  , Time elapsed :  0:02:22\n",
            "  Batch :  120  , Time elapsed :  0:03:10\n",
            "  Batch :  150  , Time elapsed :  0:03:57\n"
          ],
          "name": "stdout"
        },
        {
          "output_type": "stream",
          "text": [
            "\n",
            "Epoch:  33%|███▎      | 2/6 [08:49<17:38, 264.73s/it]\u001b[A"
          ],
          "name": "stderr"
        },
        {
          "output_type": "stream",
          "text": [
            "\n",
            "Train loss for epoch:  0.3684377822847593\n",
            "\n",
            "Training epoch took: 0:04:25\n",
            "  Batch :  30  , Time elapsed :  0:00:48\n",
            "  Batch :  60  , Time elapsed :  0:01:35\n",
            "  Batch :  90  , Time elapsed :  0:02:23\n",
            "  Batch :  120  , Time elapsed :  0:03:10\n",
            "  Batch :  150  , Time elapsed :  0:03:58\n"
          ],
          "name": "stdout"
        },
        {
          "output_type": "stream",
          "text": [
            "\n",
            "Epoch:  50%|█████     | 3/6 [13:14<13:14, 264.85s/it]\u001b[A"
          ],
          "name": "stderr"
        },
        {
          "output_type": "stream",
          "text": [
            "\n",
            "Train loss for epoch:  0.36824716077674\n",
            "\n",
            "Training epoch took: 0:04:25\n",
            "  Batch :  30  , Time elapsed :  0:00:48\n",
            "  Batch :  60  , Time elapsed :  0:01:35\n",
            "  Batch :  90  , Time elapsed :  0:02:23\n",
            "  Batch :  120  , Time elapsed :  0:03:10\n",
            "  Batch :  150  , Time elapsed :  0:03:58\n"
          ],
          "name": "stdout"
        },
        {
          "output_type": "stream",
          "text": [
            "\n",
            "Epoch:  67%|██████▋   | 4/6 [17:40<08:50, 265.04s/it]\u001b[A"
          ],
          "name": "stderr"
        },
        {
          "output_type": "stream",
          "text": [
            "\n",
            "Train loss for epoch:  0.3685862272977829\n",
            "\n",
            "Training epoch took: 0:04:25\n",
            "  Batch :  30  , Time elapsed :  0:00:48\n",
            "  Batch :  60  , Time elapsed :  0:01:35\n",
            "  Batch :  90  , Time elapsed :  0:02:23\n",
            "  Batch :  120  , Time elapsed :  0:03:10\n",
            "  Batch :  150  , Time elapsed :  0:03:58\n"
          ],
          "name": "stdout"
        },
        {
          "output_type": "stream",
          "text": [
            "\n",
            "Epoch:  83%|████████▎ | 5/6 [22:05<04:25, 265.12s/it]\u001b[A"
          ],
          "name": "stderr"
        },
        {
          "output_type": "stream",
          "text": [
            "\n",
            "Train loss for epoch:  0.3683128436761243\n",
            "\n",
            "Training epoch took: 0:04:25\n",
            "  Batch :  30  , Time elapsed :  0:00:48\n",
            "  Batch :  60  , Time elapsed :  0:01:35\n",
            "  Batch :  90  , Time elapsed :  0:02:23\n",
            "  Batch :  120  , Time elapsed :  0:03:10\n",
            "  Batch :  150  , Time elapsed :  0:03:58\n"
          ],
          "name": "stdout"
        },
        {
          "output_type": "stream",
          "text": [
            "\n",
            "Epoch: 100%|██████████| 6/6 [26:30<00:00, 265.08s/it]\u001b[A\n",
            "\u001b[A"
          ],
          "name": "stderr"
        },
        {
          "output_type": "stream",
          "text": [
            "\n",
            "Train loss for epoch:  0.3683340145008905\n",
            "\n",
            "Training epoch took: 0:04:25\n"
          ],
          "name": "stdout"
        },
        {
          "output_type": "display_data",
          "data": {
            "image/png": "[encoded data removed]",
            "text/plain": [
              "<Figure size 864x432 with 1 Axes>"
            ]
          },
          "metadata": {
            "tags": []
          }
        }
      ]
    },
    {
      "cell_type": "code",
      "metadata": {
        "id": "ovZDUAOGqtnh",
        "colab_type": "code",
        "outputId": "085b773d-13d3-4dcc-ff28-f80b31813720",
        "colab": {
          "base_uri": "https://localhost:8080/",
          "height": 34
        }
      },
      "source": [
        "config = BertConfig.from_pretrained('bert-base-uncased')\n",
        "bert = BertMultiLabelClassifier(config)\n",
        "bert = bert.cuda()\n",
        "\n",
        "#Later to restore:\n",
        "bert.load_state_dict(torch.load(\"/content/drive/My Drive/Dataset/bert_unimodal.pt\"))"
      ],
      "execution_count": 0,
      "outputs": [
        {
          "output_type": "execute_result",
          "data": {
            "text/plain": [
              "<All keys matched successfully>"
            ]
          },
          "metadata": {
            "tags": []
          },
          "execution_count": 10
        }
      ]
    },
    {
      "cell_type": "code",
      "metadata": {
        "id": "ee2xZN7VkrZa",
        "colab_type": "code",
        "colab": {}
      },
      "source": [
        "from torch.nn import BCEWithLogitsLoss\n",
        "from torch.utils.data import TensorDataset, DataLoader, RandomSampler, SequentialSampler\n",
        "#from torch.optim import Adam\n",
        "from tqdm import tqdm, trange\n",
        "\n",
        "device = torch.device(\"cuda\" if torch.cuda.is_available() else \"cpu\")\n",
        "test_dataset = TensorDataset(Data_test_tensor, Labels_test_tensor)\n",
        "test_sampler = SequentialSampler(test_dataset)\n",
        "test_dataloader = DataLoader(test_dataset, sampler=test_sampler, batch_size=16)"
      ],
      "execution_count": 0,
      "outputs": []
    },
    {
      "cell_type": "code",
      "metadata": {
        "id": "oJ-0RM7HxGLl",
        "colab_type": "code",
        "outputId": "6434b9a7-b615-4df1-9235-8127e2a97aba",
        "colab": {
          "base_uri": "https://localhost:8080/",
          "height": 268
        }
      },
      "source": [
        "# Testing\n",
        "\n",
        "# Put model in evaluation mode to evaluate loss on the test set\n",
        "bert.eval()\n",
        "\n",
        "results = pd.DataFrame(0, index=['Recall','Precision','F_Score'], columns=['micro', 'macro', 'weighted', 'samples']).astype(float)\n",
        "\n",
        "# Evaluate data for one epoch\n",
        "for batch_data in test_dataloader:\n",
        "      \n",
        "      token_ids, labels = tuple(t.to(device) for t in batch_data)\n",
        "      \n",
        "      # Telling the model not to compute or store gradients, saving memory and speeding up validation\n",
        "      # Forward pass, calculate logit predictions\n",
        "      with torch.no_grad():\n",
        "        output = bert(token_ids)\n",
        "\n",
        "      threshold = torch.Tensor([0.2]).to(device)\n",
        "      predictions = (output > threshold).int()\n",
        "\n",
        "      # Move preds and labels to CPU\n",
        "      predictions = predictions.detach().cpu().numpy()\n",
        "      labels = labels.to('cpu').numpy()\n",
        "      \n",
        "      results = Get_Metrics(labels, predictions, results)\n",
        "    \n",
        "results = results/len(test_dataloader)\n",
        "print(\"Test data metrics : \\n\")\n",
        "results"
      ],
      "execution_count": 0,
      "outputs": [
        {
          "output_type": "stream",
          "text": [
            "/usr/local/lib/python3.6/dist-packages/sklearn/metrics/classification.py:1437: UndefinedMetricWarning: Precision and F-score are ill-defined and being set to 0.0 in labels with no predicted samples.\n",
            "  'precision', 'predicted', average, warn_for)\n",
            "/usr/local/lib/python3.6/dist-packages/sklearn/metrics/classification.py:1439: UndefinedMetricWarning: Recall and F-score are ill-defined and being set to 0.0 in labels with no true samples.\n",
            "  'recall', 'true', average, warn_for)\n"
          ],
          "name": "stderr"
        },
        {
          "output_type": "stream",
          "text": [
            "Test data metrics : \n",
            "\n"
          ],
          "name": "stdout"
        },
        {
          "output_type": "execute_result",
          "data": {
            "text/html": [
              "<div>\n",
              "<style scoped>\n",
              "    .dataframe tbody tr th:only-of-type {\n",
              "        vertical-align: middle;\n",
              "    }\n",
              "\n",
              "    .dataframe tbody tr th {\n",
              "        vertical-align: top;\n",
              "    }\n",
              "\n",
              "    .dataframe thead th {\n",
              "        text-align: right;\n",
              "    }\n",
              "</style>\n",
              "<table border=\"1\" class=\"dataframe\">\n",
              "  <thead>\n",
              "    <tr style=\"text-align: right;\">\n",
              "      <th></th>\n",
              "      <th>micro</th>\n",
              "      <th>macro</th>\n",
              "      <th>weighted</th>\n",
              "      <th>samples</th>\n",
              "    </tr>\n",
              "  </thead>\n",
              "  <tbody>\n",
              "    <tr>\n",
              "      <th>Recall</th>\n",
              "      <td>0.361230</td>\n",
              "      <td>0.156826</td>\n",
              "      <td>0.361230</td>\n",
              "      <td>0.368941</td>\n",
              "    </tr>\n",
              "    <tr>\n",
              "      <th>Precision</th>\n",
              "      <td>0.318757</td>\n",
              "      <td>0.075197</td>\n",
              "      <td>0.170724</td>\n",
              "      <td>0.323082</td>\n",
              "    </tr>\n",
              "    <tr>\n",
              "      <th>F_Score</th>\n",
              "      <td>0.338061</td>\n",
              "      <td>0.086607</td>\n",
              "      <td>0.209817</td>\n",
              "      <td>0.330291</td>\n",
              "    </tr>\n",
              "  </tbody>\n",
              "</table>\n",
              "</div>"
            ],
            "text/plain": [
              "              micro     macro  weighted   samples\n",
              "Recall     0.361230  0.156826  0.361230  0.368941\n",
              "Precision  0.318757  0.075197  0.170724  0.323082\n",
              "F_Score    0.338061  0.086607  0.209817  0.330291"
            ]
          },
          "metadata": {
            "tags": []
          },
          "execution_count": 71
        }
      ]
    },
    {
      "cell_type": "code",
      "metadata": {
        "id": "pW9CcxX-Q9Fq",
        "colab_type": "code",
        "colab": {}
      },
      "source": [
        "import torch\n",
        "from torch.nn import BCEWithLogitsLoss\n",
        "from torch.utils.data import TensorDataset, DataLoader, RandomSampler, SequentialSampler\n",
        "from tqdm import tqdm, trange\n",
        "#!pip install transformers\n",
        "from transformers import BertConfig, AdamW\n",
        "from sklearn import metrics\n",
        "import matplotlib.pyplot as plt\n",
        "% matplotlib inline\n",
        "import seaborn as sns\n",
        "import pandas as pd\n",
        "import time\n",
        "import datetime\n",
        "\n",
        "\n",
        "class Training_Testing_Bert():\n",
        "\n",
        "    def __init__(self, Data_train_tensor, Labels_train_tensor, Data_test_tensor, Labels_test_tensor, \n",
        "                 Label_names = None, batch_size = 16, epochs = 5, freeze_bert = True, sigmoid_thresh = 0.2, \n",
        "                 optim_lr = 2e-5, num_labels = 23):\n",
        "      \n",
        "      self.config = BertConfig.from_pretrained('bert-base-uncased')\n",
        "      self.bert = BertMultiLabelClassifier(config).cuda()\n",
        "      \n",
        "      #do not train the Bert model\n",
        "      if(freeze_bert) :\n",
        "        self.bert.freeze_bert_encoder()\n",
        "\n",
        "      self.label_names = Label_names\n",
        "      self.num_labels = num_labels\n",
        "      self.batch_size = batch_size\n",
        "      self.optim_lr = optim_lr\n",
        "      self.epochs = epochs\n",
        "      self.sigmoid_thresh = sigmoid_thresh\n",
        "      self.optimizer = self.SetOptimizer()\n",
        "      #self.scheduler = self.SetScheduler()\n",
        "      self.device = torch.device(\"cuda\" if torch.cuda.is_available() else \"cpu\")\n",
        "      self.results = pd.DataFrame(0, index=['Recall','Precision','F_Score'], columns=['micro', 'macro', 'weighted', 'samples']).astype(float)\n",
        "      self.epoch_loss_set = []\n",
        "      self.train_dataloader = self.SetTrainDataloader(Data_train_tensor, Labels_train_tensor)\n",
        "      self.test_dataloader = self.SetTestDataloader(Data_test_tensor, Labels_test_tensor)\n",
        "\n",
        "\n",
        "    def SetOptimizer(self) :\n",
        "\n",
        "      optimizer = AdamW(self.bert.parameters(), self.optim_lr, eps = 1e-6)\n",
        "      return(optimizer)\n",
        "\n",
        "    \n",
        "    '''\n",
        "    def SetScheduler(self) :\n",
        "\n",
        "      scheduler =\n",
        "      return(scheduler) \n",
        "    '''\n",
        "\n",
        "\n",
        "    def Get_Metrics(self, actual, predicted) :\n",
        "\n",
        "      #acc = metrics.accuracy_score(actual, predicted)\n",
        "      #hamming = metrics.hamming_loss(actual, predicted)\n",
        "      #(metrics.roc_auc_score(actual, predicted, average=average)\n",
        "      averages = ('micro', 'macro', 'weighted', 'samples')\n",
        "      for average in averages:\n",
        "          precision, recall, fscore, _ = metrics.precision_recall_fscore_support(actual, predicted, average=average)\n",
        "          self.results[average]['Recall'] += recall\n",
        "          self.results[average]['Precision'] += precision\n",
        "          self.results[average]['F_Score'] += fscore\n",
        "\n",
        "\n",
        "    #source: https://mccormickml.com/2019/07/22/BERT-fine-tuning/\n",
        "    def Plot_Training_Epoch_Loss(self) :\n",
        "\n",
        "      sns.set(style='darkgrid')\n",
        "      sns.set(font_scale=1.5)\n",
        "      plt.rcParams[\"figure.figsize\"] = (12,6)\n",
        "      plt.plot(self.epoch_loss_set, 'b-o')\n",
        "      plt.title(\"Training loss\")\n",
        "      plt.xlabel(\"Epoch\")\n",
        "      plt.ylabel(\"Loss\")\n",
        "      plt.show()\n",
        "\n",
        "\n",
        "    #source: https://mccormickml.com/2019/07/22/BERT-fine-tuning/\n",
        "    def format_time(self, elapsed):\n",
        "      '''\n",
        "      Takes a time in seconds and returns a string hh:mm:ss\n",
        "      '''\n",
        "      # Round to the nearest second.\n",
        "      elapsed_rounded = int(round((elapsed)))\n",
        "      return str(datetime.timedelta(seconds=elapsed_rounded))\n",
        "\n",
        "\n",
        "    def SetTrainDataloader(self, Data_train_tensor, Labels_train_tensor) :\n",
        "\n",
        "      train_dataset = TensorDataset(Data_train_tensor, Labels_train_tensor)\n",
        "      train_sampler = RandomSampler(train_dataset)\n",
        "      train_dataloader = DataLoader(train_dataset, sampler=train_sampler, batch_size = self.batch_size)\n",
        "      return(train_dataloader)\n",
        "\n",
        "\n",
        "    def SetTestDataloader(self, Data_test_tensor, Labels_test_tensor) :\n",
        "      \n",
        "      test_dataset = TensorDataset(Data_test_tensor, Labels_test_tensor)\n",
        "      test_sampler = SequentialSampler(test_dataset)\n",
        "      test_dataloader = DataLoader(test_dataset, sampler=test_sampler, batch_size = self.batch_size)\n",
        "      return(test_dataloader)\n",
        "\n",
        "\n",
        "\n",
        "    def Train_Bert(self) :\n",
        "\n",
        "      for _ in trange(self.epochs, desc=\"Epoch\"):\n",
        "        \n",
        "        self.bert.train()\n",
        "        epoch_loss = 0\n",
        "\n",
        "        # Measure how long the training epoch takes.\n",
        "        t0 = time.time()\n",
        "    \n",
        "        for step_num, batch_data in enumerate(self.train_dataloader):\n",
        "\n",
        "          # Progress update every 30 batches.\n",
        "          if step_num % 30 == 0 and not step_num == 0:\n",
        "            elapsed = format_time(time.time() - t0)\n",
        "            print('  Batch : ',step_num, ' , Time elapsed : ',elapsed)\n",
        "\n",
        "          token_ids, labels = tuple(t.to(self.device) for t in batch_data)\n",
        "          self.optimizer.zero_grad()\n",
        "          logits = self.bert(token_ids)\n",
        "          loss_fct = BCEWithLogitsLoss()\n",
        "          batch_loss = loss_fct(logits.view(-1, self.num_labels).float(), labels.view(-1, self.num_labels).float())\n",
        "          batch_loss.backward()\n",
        "          #scheduler.step()\n",
        "          self.optimizer.step()\n",
        "          epoch_loss += batch_loss.item()\n",
        "\n",
        "      avg_epoch_loss = epoch_loss/len(self.train_dataloader)\n",
        "      print(\"\\nTrain loss for epoch: \",avg_epoch_loss)\n",
        "      print(\"\\nTraining epoch took: {:}\".format(format_time(time.time() - t0)))\n",
        "      self.epoch_loss_set.append(avg_epoch_loss)\n",
        "\n",
        "      torch.save(self.bert.state_dict(), \"/content/drive/My Drive/Dataset/bert_unimodal.pt\")\n",
        "      self.Plot_Training_Epoch_Loss()\n",
        "    \n",
        "\n",
        "    def Test_Bert(self) :\n",
        "\n",
        "      # Put model in evaluation mode to evaluate loss on the test set\n",
        "      self.bert.eval()\n",
        "\n",
        "      for batch_data in self.test_dataloader:\n",
        "  \n",
        "        token_ids, labels = tuple(t.to(device) for t in batch_data)\n",
        "      \n",
        "        # Telling the model not to compute or store gradients, saving memory and speeding up validation\n",
        "        # Forward pass, calculate logit predictions\n",
        "        with torch.no_grad():\n",
        "          output = self.bert(token_ids)\n",
        "\n",
        "        threshold = torch.Tensor([self.sigmoid_thresh]).to(self.device)\n",
        "        predictions = (output > threshold).int()\n",
        "\n",
        "        # Move preds and labels to CPU\n",
        "        predictions = predictions.detach().cpu().numpy()\n",
        "        labels = labels.to('cpu').numpy()\n",
        "      \n",
        "        self.Get_Metrics(labels, predictions)\n",
        "    \n",
        "      self.results = self.results/len(self.test_dataloader)\n",
        "      print(\"Test data metrics : \\n\")\n",
        "      self.results\n",
        "    "
      ],
      "execution_count": 0,
      "outputs": []
    },
    {
      "cell_type": "code",
      "metadata": {
        "id": "g7VHrOwcqlPa",
        "colab_type": "code",
        "colab": {}
      },
      "source": [
        "\n",
        "    def Get_Metrics(actual, predicted, results) :\n",
        "\n",
        "      #acc = metrics.accuracy_score(actual, predicted)\n",
        "      #hamming = metrics.hamming_loss(actual, predicted)\n",
        "      #(metrics.roc_auc_score(actual, predicted, average=average)\n",
        "      averages = ('micro', 'macro', 'weighted', 'samples')\n",
        "      for average in averages:\n",
        "          precision, recall, fscore, _ = metrics.precision_recall_fscore_support(actual, predicted, average=average)\n",
        "          results[average]['Recall'] += recall\n",
        "          results[average]['Precision'] += precision\n",
        "          results[average]['F_Score'] += fscore\n",
        "      return results \n"
      ],
      "execution_count": 0,
      "outputs": []
    },
    {
      "cell_type": "code",
      "metadata": {
        "id": "uGexzZ_zhPRi",
        "colab_type": "code",
        "outputId": "4398f388-7ac2-4fae-8c51-99556d2119f8",
        "colab": {
          "base_uri": "https://localhost:8080/",
          "height": 916
        }
      },
      "source": [
        "train_test = Training_Testing_Bert(Data_train_tensor, Labels_train_tensor, Data_test_tensor, Labels_test_tensor, epochs=1)\n",
        "train_test.Train_Bert()\n",
        "train_test.Test_Bert()"
      ],
      "execution_count": 0,
      "outputs": [
        {
          "output_type": "stream",
          "text": [
            "\n",
            "\n",
            "Epoch:   0%|          | 0/1 [00:00<?, ?it/s]\u001b[A\u001b[A"
          ],
          "name": "stderr"
        },
        {
          "output_type": "stream",
          "text": [
            "  Batch :  30  , Time elapsed :  0:00:23\n",
            "  Batch :  60  , Time elapsed :  0:00:45\n",
            "  Batch :  90  , Time elapsed :  0:01:08\n",
            "  Batch :  120  , Time elapsed :  0:01:32\n",
            "  Batch :  150  , Time elapsed :  0:01:55\n",
            "  Batch :  180  , Time elapsed :  0:02:18\n",
            "  Batch :  210  , Time elapsed :  0:02:41\n",
            "  Batch :  240  , Time elapsed :  0:03:04\n",
            "  Batch :  270  , Time elapsed :  0:03:27\n",
            "  Batch :  300  , Time elapsed :  0:03:50\n",
            "  Batch :  330  , Time elapsed :  0:04:13\n"
          ],
          "name": "stdout"
        },
        {
          "output_type": "stream",
          "text": [
            "\n",
            "\n",
            "Epoch: 100%|██████████| 1/1 [04:16<00:00, 256.83s/it]\u001b[A\u001b[A\n",
            "\n",
            "\u001b[A\u001b[A"
          ],
          "name": "stderr"
        },
        {
          "output_type": "stream",
          "text": [
            "\n",
            "Train loss for epoch:  0.47885878264014403\n",
            "\n",
            "Training epoch took: 0:04:17\n"
          ],
          "name": "stdout"
        },
        {
          "output_type": "display_data",
          "data": {
            "image/png": "[encoded data removed]",
            "text/plain": [
              "<Figure size 864x432 with 1 Axes>"
            ]
          },
          "metadata": {
            "tags": []
          }
        },
        {
          "output_type": "stream",
          "text": [
            "/usr/local/lib/python3.6/dist-packages/sklearn/metrics/classification.py:1437: UndefinedMetricWarning: Precision and F-score are ill-defined and being set to 0.0 in labels with no predicted samples.\n",
            "  'precision', 'predicted', average, warn_for)\n",
            "/usr/local/lib/python3.6/dist-packages/sklearn/metrics/classification.py:1439: UndefinedMetricWarning: Recall and F-score are ill-defined and being set to 0.0 in labels with no true samples.\n",
            "  'recall', 'true', average, warn_for)\n"
          ],
          "name": "stderr"
        },
        {
          "output_type": "stream",
          "text": [
            "Test data metrics : \n",
            "\n"
          ],
          "name": "stdout"
        }
      ]
    },
    {
      "cell_type": "code",
      "metadata": {
        "id": "lYvhMzovhzGC",
        "colab_type": "code",
        "outputId": "3b72122b-dfd0-413e-cf6a-ae2d28bdf189",
        "colab": {
          "base_uri": "https://localhost:8080/",
          "height": 143
        }
      },
      "source": [
        "train_test.results"
      ],
      "execution_count": 0,
      "outputs": [
        {
          "output_type": "execute_result",
          "data": {
            "text/html": [
              "<div>\n",
              "<style scoped>\n",
              "    .dataframe tbody tr th:only-of-type {\n",
              "        vertical-align: middle;\n",
              "    }\n",
              "\n",
              "    .dataframe tbody tr th {\n",
              "        vertical-align: top;\n",
              "    }\n",
              "\n",
              "    .dataframe thead th {\n",
              "        text-align: right;\n",
              "    }\n",
              "</style>\n",
              "<table border=\"1\" class=\"dataframe\">\n",
              "  <thead>\n",
              "    <tr style=\"text-align: right;\">\n",
              "      <th></th>\n",
              "      <th>micro</th>\n",
              "      <th>macro</th>\n",
              "      <th>weighted</th>\n",
              "      <th>samples</th>\n",
              "    </tr>\n",
              "  </thead>\n",
              "  <tbody>\n",
              "    <tr>\n",
              "      <th>Recall</th>\n",
              "      <td>0.449299</td>\n",
              "      <td>0.225486</td>\n",
              "      <td>0.449299</td>\n",
              "      <td>0.448903</td>\n",
              "    </tr>\n",
              "    <tr>\n",
              "      <th>Precision</th>\n",
              "      <td>0.257696</td>\n",
              "      <td>0.095902</td>\n",
              "      <td>0.205193</td>\n",
              "      <td>0.280537</td>\n",
              "    </tr>\n",
              "    <tr>\n",
              "      <th>F_Score</th>\n",
              "      <td>0.324571</td>\n",
              "      <td>0.118018</td>\n",
              "      <td>0.257930</td>\n",
              "      <td>0.323175</td>\n",
              "    </tr>\n",
              "  </tbody>\n",
              "</table>\n",
              "</div>"
            ],
            "text/plain": [
              "              micro     macro  weighted   samples\n",
              "Recall     0.449299  0.225486  0.449299  0.448903\n",
              "Precision  0.257696  0.095902  0.205193  0.280537\n",
              "F_Score    0.324571  0.118018  0.257930  0.323175"
            ]
          },
          "metadata": {
            "tags": []
          },
          "execution_count": 105
        }
      ]
    },
    {
      "cell_type": "code",
      "metadata": {
        "id": "OqygYzAJp3a7",
        "colab_type": "code",
        "colab": {}
      },
      "source": [
        ""
      ],
      "execution_count": 0,
      "outputs": []
    }
  ]
}